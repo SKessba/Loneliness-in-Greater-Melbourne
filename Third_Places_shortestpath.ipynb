{
  "nbformat": 4,
  "nbformat_minor": 0,
  "metadata": {
    "colab": {
      "provenance": []
    },
    "kernelspec": {
      "name": "python3",
      "display_name": "Python 3"
    },
    "language_info": {
      "name": "python"
    }
  },
  "cells": [
    {
      "cell_type": "code",
      "source": [
        "!pip install geopandas\n"
      ],
      "metadata": {
        "colab": {
          "base_uri": "https://localhost:8080/"
        },
        "id": "qoIq9gey7DvD",
        "outputId": "24cc4c82-ca64-45a9-973f-edd9014f67bc"
      },
      "execution_count": null,
      "outputs": [
        {
          "output_type": "stream",
          "name": "stdout",
          "text": [
            "Looking in indexes: https://pypi.org/simple, https://us-python.pkg.dev/colab-wheels/public/simple/\n",
            "Collecting geopandas\n",
            "  Downloading geopandas-0.13.2-py3-none-any.whl (1.1 MB)\n",
            "\u001b[2K     \u001b[90m━━━━━━━━━━━━━━━━━━━━━━━━━━━━━━━━━━━━━━━━\u001b[0m \u001b[32m1.1/1.1 MB\u001b[0m \u001b[31m14.5 MB/s\u001b[0m eta \u001b[36m0:00:00\u001b[0m\n",
            "\u001b[?25hCollecting fiona>=1.8.19 (from geopandas)\n",
            "  Downloading Fiona-1.9.4.post1-cp310-cp310-manylinux_2_17_x86_64.manylinux2014_x86_64.whl (16.4 MB)\n",
            "\u001b[2K     \u001b[90m━━━━━━━━━━━━━━━━━━━━━━━━━━━━━━━━━━━━━━━━\u001b[0m \u001b[32m16.4/16.4 MB\u001b[0m \u001b[31m24.0 MB/s\u001b[0m eta \u001b[36m0:00:00\u001b[0m\n",
            "\u001b[?25hRequirement already satisfied: packaging in /usr/local/lib/python3.10/dist-packages (from geopandas) (23.1)\n",
            "Requirement already satisfied: pandas>=1.1.0 in /usr/local/lib/python3.10/dist-packages (from geopandas) (1.5.3)\n",
            "Collecting pyproj>=3.0.1 (from geopandas)\n",
            "  Downloading pyproj-3.6.0-cp310-cp310-manylinux_2_17_x86_64.manylinux2014_x86_64.whl (7.9 MB)\n",
            "\u001b[2K     \u001b[90m━━━━━━━━━━━━━━━━━━━━━━━━━━━━━━━━━━━━━━━━\u001b[0m \u001b[32m7.9/7.9 MB\u001b[0m \u001b[31m69.7 MB/s\u001b[0m eta \u001b[36m0:00:00\u001b[0m\n",
            "\u001b[?25hRequirement already satisfied: shapely>=1.7.1 in /usr/local/lib/python3.10/dist-packages (from geopandas) (2.0.1)\n",
            "Requirement already satisfied: attrs>=19.2.0 in /usr/local/lib/python3.10/dist-packages (from fiona>=1.8.19->geopandas) (23.1.0)\n",
            "Requirement already satisfied: certifi in /usr/local/lib/python3.10/dist-packages (from fiona>=1.8.19->geopandas) (2023.5.7)\n",
            "Requirement already satisfied: click~=8.0 in /usr/local/lib/python3.10/dist-packages (from fiona>=1.8.19->geopandas) (8.1.3)\n",
            "Collecting click-plugins>=1.0 (from fiona>=1.8.19->geopandas)\n",
            "  Downloading click_plugins-1.1.1-py2.py3-none-any.whl (7.5 kB)\n",
            "Collecting cligj>=0.5 (from fiona>=1.8.19->geopandas)\n",
            "  Downloading cligj-0.7.2-py3-none-any.whl (7.1 kB)\n",
            "Requirement already satisfied: six in /usr/local/lib/python3.10/dist-packages (from fiona>=1.8.19->geopandas) (1.16.0)\n",
            "Requirement already satisfied: python-dateutil>=2.8.1 in /usr/local/lib/python3.10/dist-packages (from pandas>=1.1.0->geopandas) (2.8.2)\n",
            "Requirement already satisfied: pytz>=2020.1 in /usr/local/lib/python3.10/dist-packages (from pandas>=1.1.0->geopandas) (2022.7.1)\n",
            "Requirement already satisfied: numpy>=1.21.0 in /usr/local/lib/python3.10/dist-packages (from pandas>=1.1.0->geopandas) (1.22.4)\n",
            "Installing collected packages: pyproj, cligj, click-plugins, fiona, geopandas\n",
            "Successfully installed click-plugins-1.1.1 cligj-0.7.2 fiona-1.9.4.post1 geopandas-0.13.2 pyproj-3.6.0\n"
          ]
        }
      ]
    },
    {
      "cell_type": "code",
      "source": [
        "import pandas as pd\n",
        "import geopandas as gpd\n",
        "from scipy.spatial import cKDTree\n",
        "from shapely.geometry import Point\n",
        "from shapely.wkt import loads\n",
        "import numpy as np"
      ],
      "metadata": {
        "id": "eKwP8gKN-qzT"
      },
      "execution_count": null,
      "outputs": []
    },
    {
      "cell_type": "code",
      "source": [
        "drive.mount('/content/drive')\n"
      ],
      "metadata": {
        "colab": {
          "base_uri": "https://localhost:8080/"
        },
        "id": "NuUiIiXG-sSV",
        "outputId": "c1d57a38-f90f-4a89-c82a-c357bb8ab21c"
      },
      "execution_count": null,
      "outputs": [
        {
          "output_type": "stream",
          "name": "stdout",
          "text": [
            "Drive already mounted at /content/drive; to attempt to forcibly remount, call drive.mount(\"/content/drive\", force_remount=True).\n"
          ]
        }
      ]
    },
    {
      "cell_type": "code",
      "source": [
        "# Load the data\n",
        "third_places_df = pd.read_excel('/content/drive/MyDrive/STUDIO_ML/ThirdPlacesByPostCode.xlsx')\n",
        "# Define the paths to the .shp, .shx, and .dbf files\n",
        "shp_path = '/content/drive/MyDrive/STUDIO_ML/POA_2021_AUST_GDA2020.shp'\n",
        "postal_code_df = gpd.read_file(shp_path)"
      ],
      "metadata": {
        "id": "myqkFS8EGPSS"
      },
      "execution_count": null,
      "outputs": []
    },
    {
      "cell_type": "code",
      "execution_count": null,
      "metadata": {
        "id": "EskWMKZx6rH2"
      },
      "outputs": [],
      "source": [
        "# Filter postal_code_df to only include specific postal codes\n",
        "postal_codes_to_include = ['3000','3002','3003','3004','3006','3008','3011','3012','3013','3015','3016','3018',\n",
        "                           '3019','3020','3021','3022','3023','3024','3025','3026','3027','3028','3029','3030',\n",
        "                           '3031','3032','3033','3034','3036','3037','3038','3039','3040','3041','3042','3043',\n",
        "                           '3044','3045','3046','3047','3048','3049','3051','3052','3053','3054','3055','3056',\n",
        "                           '3057','3058','3059','3060','3061','3062','3063','3064','3065','3066','3067','3068',\n",
        "                           '3070','3071','3072','3073','3074','3075','3076','3078','3079','3081','3082','3083',\n",
        "                           '3084','3085','3087','3088','3089','3090','3091','3093','3094','3095','3096','3097',\n",
        "                           '3099','3101','3102','3103','3104','3105','3106','3107','3108','3109','3111','3113',\n",
        "                           '3114','3115','3116','3121','3122','3123','3124','3125','3126','3127','3128','3129',\n",
        "                           '3130','3131','3132','3133','3134','3135','3136','3137','3138','3140','3141','3142',\n",
        "                           '3143','3144','3145','3146','3147','3148','3149','3150','3151','3152','3153','3154',\n",
        "                           '3155','3156','3158','3159','3160','3161','3162','3163','3165','3166','3167','3168',\n",
        "                           '3169','3170','3171','3172','3173','3174','3175','3177','3178','3179','3180','3181',\n",
        "                           '3182','3183','3184','3185','3186','3187','3188','3189','3190','3191','3192','3193',\n",
        "                           '3194','3195','3196','3197','3198','3199','3200','3201','3202','3204','3205','3206',\n",
        "                           '3207','3211','3223','3335','3336','3337','3338','3427','3428','3429','3430','3431',\n",
        "                           '3432','3433','3750','3751','3752','3753','3754','3755','3756','3757','3759','3761',\n",
        "                           '3762','3763','3764','3765','3766','3770','3775','3781','3782','3783','3785','3786',\n",
        "                           '3787','3788','3789','3791','3792','3793','3795','3796','3797','3799','3802','3803',\n",
        "                           '3804','3805','3806','3807','3808','3809','3810','3910','3911','3912','3913','3915',\n",
        "                           '3916','3918','3919','3920','3926','3927','3928','3929','3930','3931','3933','3934',\n",
        "                           '3936','3937','3938','3939','3940','3941','3942','3943','3944','3975','3976','3977',\n",
        "                           '3978','3980','3981']\n",
        "\n",
        "postal_code_df = postal_code_df[postal_code_df['POA_CODE21'].isin(postal_codes_to_include)]\n"
      ]
    },
    {
      "cell_type": "code",
      "source": [
        "print(postal_code_df.head())\n"
      ],
      "metadata": {
        "colab": {
          "base_uri": "https://localhost:8080/"
        },
        "id": "QmDcqt57KPLr",
        "outputId": "eced51ac-9e94-451b-ff61-2c5a8e834817"
      },
      "execution_count": null,
      "outputs": [
        {
          "output_type": "stream",
          "name": "stdout",
          "text": [
            "    POA_CODE21 POA_NAME21 AUS_CODE21 AUS_NAME21  AREASQKM21  \\\n",
            "672       3000       3000        AUS  Australia      2.4814   \n",
            "673       3002       3002        AUS  Australia      1.8557   \n",
            "674       3003       3003        AUS  Australia      6.5822   \n",
            "675       3004       3004        AUS  Australia      4.0421   \n",
            "676       3006       3006        AUS  Australia      1.8542   \n",
            "\n",
            "                                            LOCI_URI21  SHAPE_Leng  \\\n",
            "672  http://linked.data.gov.au/dataset/asgsed3/POA/...    0.083491   \n",
            "673  http://linked.data.gov.au/dataset/asgsed3/POA/...    0.059488   \n",
            "674  http://linked.data.gov.au/dataset/asgsed3/POA/...    0.139928   \n",
            "675  http://linked.data.gov.au/dataset/asgsed3/POA/...    0.137947   \n",
            "676  http://linked.data.gov.au/dataset/asgsed3/POA/...    0.066882   \n",
            "\n",
            "     SHAPE_Area                                           geometry  \n",
            "672    0.000254  POLYGON ((144.96139 -37.82050, 144.96063 -37.8...  \n",
            "673    0.000190  POLYGON ((144.98978 -37.81906, 144.98973 -37.8...  \n",
            "674    0.000673  POLYGON ((144.95268 -37.81280, 144.95191 -37.8...  \n",
            "675    0.000414  POLYGON ((144.98001 -37.84422, 144.98031 -37.8...  \n",
            "676    0.000190  POLYGON ((144.96139 -37.82050, 144.96303 -37.8...  \n"
          ]
        }
      ]
    },
    {
      "cell_type": "code",
      "source": [
        "# Extract the x and y coordinates from third_places_df\n",
        "third_places_coords = third_places_df[['latitude', 'longitude']].values\n",
        "\n",
        "# Build the tree from the coordinates\n",
        "tree = cKDTree(third_places_coords)\n",
        "\n",
        "\n",
        "# Define a function to calculate the distances to the nearest 3 third places\n",
        "def calculate_distances(row):\n",
        "    # Initialize a Series of length 3 with np.inf\n",
        "    distances = np.full(3, np.inf)\n",
        "    # Get the centroid of the postal code area\n",
        "    postal_code_centroid = row.geometry.centroid\n",
        "    # Use the tree to get the distances to the nearest 3 third places\n",
        "    dist, indices = tree.query([postal_code_centroid.x, postal_code_centroid.y], k=3)\n",
        "    # Replace the values in distances with the actual distances as long as they exist\n",
        "    distances[:len(dist)] = dist\n",
        "    return pd.Series(distances)  # Now it returns a pandas Series"
      ],
      "metadata": {
        "id": "CbIQsfgeKNpO"
      },
      "execution_count": null,
      "outputs": []
    },
    {
      "cell_type": "code",
      "source": [
        "print(postal_code_df)"
      ],
      "metadata": {
        "colab": {
          "base_uri": "https://localhost:8080/"
        },
        "id": "CLauYfOsIRku",
        "outputId": "3f6b1f16-7ec2-4f18-c8c3-14edfe9ac5c8"
      },
      "execution_count": null,
      "outputs": [
        {
          "output_type": "stream",
          "name": "stdout",
          "text": [
            "     POA_CODE21 POA_NAME21 AUS_CODE21 AUS_NAME21  AREASQKM21  \\\n",
            "672        3000       3000        AUS  Australia      2.4814   \n",
            "673        3002       3002        AUS  Australia      1.8557   \n",
            "674        3003       3003        AUS  Australia      6.5822   \n",
            "675        3004       3004        AUS  Australia      4.0421   \n",
            "676        3006       3006        AUS  Australia      1.8542   \n",
            "...         ...        ...        ...        ...         ...   \n",
            "1352       3976       3976        AUS  Australia     13.3423   \n",
            "1353       3977       3977        AUS  Australia    142.1782   \n",
            "1354       3978       3978        AUS  Australia     96.5101   \n",
            "1356       3980       3980        AUS  Australia     37.0278   \n",
            "1357       3981       3981        AUS  Australia    203.7769   \n",
            "\n",
            "                                             LOCI_URI21  SHAPE_Leng  \\\n",
            "672   http://linked.data.gov.au/dataset/asgsed3/POA/...    0.083491   \n",
            "673   http://linked.data.gov.au/dataset/asgsed3/POA/...    0.059488   \n",
            "674   http://linked.data.gov.au/dataset/asgsed3/POA/...    0.139928   \n",
            "675   http://linked.data.gov.au/dataset/asgsed3/POA/...    0.137947   \n",
            "676   http://linked.data.gov.au/dataset/asgsed3/POA/...    0.066882   \n",
            "...                                                 ...         ...   \n",
            "1352  http://linked.data.gov.au/dataset/asgsed3/POA/...    0.168412   \n",
            "1353  http://linked.data.gov.au/dataset/asgsed3/POA/...    0.837826   \n",
            "1354  http://linked.data.gov.au/dataset/asgsed3/POA/...    0.495578   \n",
            "1356  http://linked.data.gov.au/dataset/asgsed3/POA/...    0.452143   \n",
            "1357  http://linked.data.gov.au/dataset/asgsed3/POA/...    1.210554   \n",
            "\n",
            "      SHAPE_Area                                           geometry  \n",
            "672     0.000254  POLYGON ((144.96139 -37.82050, 144.96063 -37.8...  \n",
            "673     0.000190  POLYGON ((144.98978 -37.81906, 144.98973 -37.8...  \n",
            "674     0.000673  POLYGON ((144.95268 -37.81280, 144.95191 -37.8...  \n",
            "675     0.000414  POLYGON ((144.98001 -37.84422, 144.98031 -37.8...  \n",
            "676     0.000190  POLYGON ((144.96139 -37.82050, 144.96303 -37.8...  \n",
            "...          ...                                                ...  \n",
            "1352    0.001369  POLYGON ((145.26476 -38.04753, 145.26510 -38.0...  \n",
            "1353    0.014611  POLYGON ((145.27513 -38.06700, 145.27977 -38.0...  \n",
            "1354    0.009917  POLYGON ((145.34853 -38.07612, 145.34943 -38.0...  \n",
            "1356    0.003809  POLYGON ((145.37259 -38.22249, 145.37225 -38.2...  \n",
            "1357    0.020959  POLYGON ((145.48546 -38.15364, 145.49411 -38.1...  \n",
            "\n",
            "[267 rows x 9 columns]\n"
          ]
        }
      ]
    },
    {
      "cell_type": "code",
      "source": [
        "# Apply the function to each row in postal_code_df and create a new column\n",
        "postal_code_df[['dist_nearest', 'dist_2nd_nearest', 'dist_3rd_nearest']] = postal_code_df.apply(calculate_distances, axis=1)\n",
        "\n",
        "# Now you can calculate the spatial dispersion index\n",
        "postal_code_df['spatial_dispersion_index'] = postal_code_df[['dist_nearest', 'dist_2nd_nearest', 'dist_3rd_nearest']].std(axis=1)\n"
      ],
      "metadata": {
        "id": "YCYOHaX17k-l"
      },
      "execution_count": null,
      "outputs": []
    },
    {
      "cell_type": "code",
      "source": [
        "# Save the DataFrame as an Excel file\n",
        "output_path = '/content/drive/MyDrive/STUDIO_ML/PostalCodeData.xlsx'\n",
        "postal_code_df.to_excel(output_path, index=False)"
      ],
      "metadata": {
        "id": "m8nwykG2Md6U"
      },
      "execution_count": null,
      "outputs": []
    },
    {
      "cell_type": "code",
      "source": [
        "print(postal_code_df)"
      ],
      "metadata": {
        "colab": {
          "base_uri": "https://localhost:8080/"
        },
        "id": "J3gu2wOsL6Pc",
        "outputId": "7e326979-88b2-4f61-ac12-b528ed9f45a1"
      },
      "execution_count": null,
      "outputs": [
        {
          "output_type": "stream",
          "name": "stdout",
          "text": [
            "     POA_CODE21 POA_NAME21 AUS_CODE21 AUS_NAME21  AREASQKM21  \\\n",
            "672        3000       3000        AUS  Australia      2.4814   \n",
            "673        3002       3002        AUS  Australia      1.8557   \n",
            "674        3003       3003        AUS  Australia      6.5822   \n",
            "675        3004       3004        AUS  Australia      4.0421   \n",
            "676        3006       3006        AUS  Australia      1.8542   \n",
            "...         ...        ...        ...        ...         ...   \n",
            "1352       3976       3976        AUS  Australia     13.3423   \n",
            "1353       3977       3977        AUS  Australia    142.1782   \n",
            "1354       3978       3978        AUS  Australia     96.5101   \n",
            "1356       3980       3980        AUS  Australia     37.0278   \n",
            "1357       3981       3981        AUS  Australia    203.7769   \n",
            "\n",
            "                                             LOCI_URI21  SHAPE_Leng  \\\n",
            "672   http://linked.data.gov.au/dataset/asgsed3/POA/...    0.083491   \n",
            "673   http://linked.data.gov.au/dataset/asgsed3/POA/...    0.059488   \n",
            "674   http://linked.data.gov.au/dataset/asgsed3/POA/...    0.139928   \n",
            "675   http://linked.data.gov.au/dataset/asgsed3/POA/...    0.137947   \n",
            "676   http://linked.data.gov.au/dataset/asgsed3/POA/...    0.066882   \n",
            "...                                                 ...         ...   \n",
            "1352  http://linked.data.gov.au/dataset/asgsed3/POA/...    0.168412   \n",
            "1353  http://linked.data.gov.au/dataset/asgsed3/POA/...    0.837826   \n",
            "1354  http://linked.data.gov.au/dataset/asgsed3/POA/...    0.495578   \n",
            "1356  http://linked.data.gov.au/dataset/asgsed3/POA/...    0.452143   \n",
            "1357  http://linked.data.gov.au/dataset/asgsed3/POA/...    1.210554   \n",
            "\n",
            "      SHAPE_Area                                           geometry  \\\n",
            "672     0.000254  POLYGON ((144.96139 -37.82050, 144.96063 -37.8...   \n",
            "673     0.000190  POLYGON ((144.98978 -37.81906, 144.98973 -37.8...   \n",
            "674     0.000673  POLYGON ((144.95268 -37.81280, 144.95191 -37.8...   \n",
            "675     0.000414  POLYGON ((144.98001 -37.84422, 144.98031 -37.8...   \n",
            "676     0.000190  POLYGON ((144.96139 -37.82050, 144.96303 -37.8...   \n",
            "...          ...                                                ...   \n",
            "1352    0.001369  POLYGON ((145.26476 -38.04753, 145.26510 -38.0...   \n",
            "1353    0.014611  POLYGON ((145.27513 -38.06700, 145.27977 -38.0...   \n",
            "1354    0.009917  POLYGON ((145.34853 -38.07612, 145.34943 -38.0...   \n",
            "1356    0.003809  POLYGON ((145.37259 -38.22249, 145.37225 -38.2...   \n",
            "1357    0.020959  POLYGON ((145.48546 -38.15364, 145.49411 -38.1...   \n",
            "\n",
            "      dist_nearest  dist_2nd_nearest  dist_3rd_nearest  \\\n",
            "672     258.052330        258.107225        258.126253   \n",
            "673     258.067538        258.122431        258.141457   \n",
            "674     258.023313        258.078213        258.097244   \n",
            "675     258.076596        258.131492        258.150520   \n",
            "676     258.060023        258.114920        258.133949   \n",
            "...            ...               ...               ...   \n",
            "1352    258.428342        258.483226        258.502248   \n",
            "1353    258.504953        258.559850        258.578879   \n",
            "1354    258.568891        258.623773        258.642794   \n",
            "1356    258.618458        258.673351        258.692378   \n",
            "1357    258.763148        258.818011        258.837021   \n",
            "\n",
            "      spatial_dispersion_index  \n",
            "672                   0.038384  \n",
            "673                   0.038382  \n",
            "674                   0.038388  \n",
            "675                   0.038385  \n",
            "676                   0.038386  \n",
            "...                        ...  \n",
            "1352                  0.038376  \n",
            "1353                  0.038386  \n",
            "1354                  0.038374  \n",
            "1356                  0.038383  \n",
            "1357                  0.038359  \n",
            "\n",
            "[267 rows x 13 columns]\n"
          ]
        }
      ]
    }
  ]
}